{
 "cells": [
  {
   "cell_type": "code",
   "execution_count": 1,
   "id": "1cc4fc83",
   "metadata": {},
   "outputs": [],
   "source": [
    "import keras\n",
    "from keras.models import Sequential\n",
    "from keras.layers import Dense, Dropout, Flatten , BatchNormalization, InputLayer, Activation\n",
    "from keras.layers import Conv2D, MaxPooling2D\n",
    "from keras.utils import to_categorical\n",
    "from keras.preprocessing import image\n",
    "\n",
    "import numpy as np\n",
    "import pandas as pd\n",
    "\n",
    "import matplotlib.pyplot as plt\n",
    "%matplotlib inline\n",
    "\n",
    "from sklearn.model_selection import train_test_split\n",
    "\n",
    "from tqdm import tqdm\n",
    "import tensorflow as tf\n",
    "\n",
    "import cv2\n",
    "import os"
   ]
  },
  {
   "cell_type": "code",
   "execution_count": 2,
   "id": "7356e374",
   "metadata": {},
   "outputs": [],
   "source": [
    "import seaborn as sns\n"
   ]
  },
  {
   "cell_type": "code",
   "execution_count": 3,
   "id": "88c8bfe9",
   "metadata": {},
   "outputs": [],
   "source": [
    "from keras.callbacks import Callback,ModelCheckpoint\n",
    "from keras.models import Sequential,load_model\n",
    "from keras.layers import Dense, Dropout\n",
    "from keras.wrappers.scikit_learn import KerasClassifier\n",
    "import keras.backend as K\n",
    "\n",
    "from tensorflow.keras.callbacks import EarlyStopping, ModelCheckpoint\n",
    "\n",
    "from sklearn.metrics import classification_report\n",
    "\n"
   ]
  },
  {
   "cell_type": "code",
   "execution_count": 4,
   "id": "ff1747b1",
   "metadata": {},
   "outputs": [],
   "source": [
    "test_image = tf.keras.utils.load_img('../kaggle_competition/train_images/10001.png')"
   ]
  },
  {
   "cell_type": "code",
   "execution_count": 5,
   "id": "7dbc08ac",
   "metadata": {},
   "outputs": [
    {
     "name": "stdout",
     "output_type": "stream",
     "text": [
      "Image size: (64, 64)\n"
     ]
    },
    {
     "data": {
      "image/png": "[encoded data removed]",
      "text/plain": [
       "<PIL.Image.Image image mode=RGB size=64x64>"
      ]
     },
     "execution_count": 5,
     "metadata": {},
     "output_type": "execute_result"
    }
   ],
   "source": [
    "print(f\"Image size: {test_image.size}\")\n",
    "test_image"
   ]
  },
  {
   "cell_type": "code",
   "execution_count": 6,
   "id": "4d9797f3",
   "metadata": {},
   "outputs": [],
   "source": [
    "train_data = pd.read_csv('../kaggle_competition/train_labels.csv')"
   ]
  },
  {
   "cell_type": "code",
   "execution_count": 7,
   "id": "467b83eb",
   "metadata": {},
   "outputs": [
    {
     "data": {
      "image/png": "[encoded data removed]",
      "text/plain": [
       "<Figure size 640x480 with 1 Axes>"
      ]
     },
     "metadata": {},
     "output_type": "display_data"
    }
   ],
   "source": [
    "#data vizualization\n",
    "\n",
    "df = train_data.drop(['id'],axis=1)\n",
    "sns.countplot(x=\"variable\", hue=\"value\", data=pd.melt(df))\n",
    "\n",
    "plt.show()"
   ]
  },
  {
   "cell_type": "code",
   "execution_count": null,
   "id": "59fd86d3",
   "metadata": {},
   "outputs": [],
   "source": []
  },
  {
   "cell_type": "code",
   "execution_count": null,
   "id": "ba811797",
   "metadata": {},
   "outputs": [],
   "source": []
  },
  {
   "cell_type": "code",
   "execution_count": 8,
   "id": "22ef1149",
   "metadata": {},
   "outputs": [],
   "source": [
    "# Train data for data augumentation\n",
    "augumented_train_data = pd.read_csv('../kaggle_competition/train_labels.csv')"
   ]
  },
  {
   "cell_type": "markdown",
   "id": "4f708f1c",
   "metadata": {},
   "source": [
    "### Drop rows where all labels are 1 or all labels are 0"
   ]
  },
  {
   "cell_type": "code",
   "execution_count": 9,
   "id": "5db01dd4",
   "metadata": {},
   "outputs": [],
   "source": [
    "# sum = 0\n",
    "# for i in augumented_train_data.index:\n",
    "#     if augumented_train_data['label1'][i]==0 and augumented_train_data[\"label2\"][i]==0 and augumented_train_data[\"label3\"][i]== 0:\n",
    "#         sum +=1\n",
    "# print(sum)"
   ]
  },
  {
   "cell_type": "code",
   "execution_count": 10,
   "id": "1efac1ce",
   "metadata": {},
   "outputs": [],
   "source": [
    "# for i in augumented_train_data.index:\n",
    "#     if augumented_train_data['label1'][i]==0 and augumented_train_data[\"label2\"][i]==0 and augumented_train_data[\"label3\"][i]== 0:\n",
    "#             augumented_train_data =   augumented_train_data.drop(i)"
   ]
  },
  {
   "cell_type": "code",
   "execution_count": 11,
   "id": "5c10a712",
   "metadata": {},
   "outputs": [],
   "source": [
    "# for i in augumented_train_data.index:\n",
    "#     if augumented_train_data['label1'][i]==1 and augumented_train_data[\"label2\"][i]==1 and augumented_train_data[\"label3\"][i]== 1:\n",
    "#             augumented_train_data =   augumented_train_data.drop(i)"
   ]
  },
  {
   "cell_type": "code",
   "execution_count": 12,
   "id": "179130c8",
   "metadata": {},
   "outputs": [
    {
     "data": {
      "text/plain": [
       "(12000, 4)"
      ]
     },
     "execution_count": 12,
     "metadata": {},
     "output_type": "execute_result"
    }
   ],
   "source": [
    "augumented_train_data.reset_index(drop=True, inplace=True)\n",
    "augumented_train_data.shape"
   ]
  },
  {
   "cell_type": "code",
   "execution_count": 13,
   "id": "230a8717",
   "metadata": {},
   "outputs": [
    {
     "data": {
      "text/html": [
       "<div>\n",
       "<style scoped>\n",
       "    .dataframe tbody tr th:only-of-type {\n",
       "        vertical-align: middle;\n",
       "    }\n",
       "\n",
       "    .dataframe tbody tr th {\n",
       "        vertical-align: top;\n",
       "    }\n",
       "\n",
       "    .dataframe thead th {\n",
       "        text-align: right;\n",
       "    }\n",
       "</style>\n",
       "<table border=\"1\" class=\"dataframe\">\n",
       "  <thead>\n",
       "    <tr style=\"text-align: right;\">\n",
       "      <th></th>\n",
       "      <th>id</th>\n",
       "      <th>label1</th>\n",
       "      <th>label2</th>\n",
       "      <th>label3</th>\n",
       "    </tr>\n",
       "  </thead>\n",
       "  <tbody>\n",
       "    <tr>\n",
       "      <th>0</th>\n",
       "      <td>10000.png</td>\n",
       "      <td>0</td>\n",
       "      <td>0</td>\n",
       "      <td>0</td>\n",
       "    </tr>\n",
       "    <tr>\n",
       "      <th>1</th>\n",
       "      <td>10001.png</td>\n",
       "      <td>0</td>\n",
       "      <td>0</td>\n",
       "      <td>1</td>\n",
       "    </tr>\n",
       "    <tr>\n",
       "      <th>2</th>\n",
       "      <td>10002.png</td>\n",
       "      <td>0</td>\n",
       "      <td>0</td>\n",
       "      <td>0</td>\n",
       "    </tr>\n",
       "    <tr>\n",
       "      <th>3</th>\n",
       "      <td>10003.png</td>\n",
       "      <td>0</td>\n",
       "      <td>0</td>\n",
       "      <td>0</td>\n",
       "    </tr>\n",
       "    <tr>\n",
       "      <th>4</th>\n",
       "      <td>10004.png</td>\n",
       "      <td>0</td>\n",
       "      <td>0</td>\n",
       "      <td>0</td>\n",
       "    </tr>\n",
       "  </tbody>\n",
       "</table>\n",
       "</div>"
      ],
      "text/plain": [
       "          id  label1  label2  label3\n",
       "0  10000.png       0       0       0\n",
       "1  10001.png       0       0       1\n",
       "2  10002.png       0       0       0\n",
       "3  10003.png       0       0       0\n",
       "4  10004.png       0       0       0"
      ]
     },
     "execution_count": 13,
     "metadata": {},
     "output_type": "execute_result"
    }
   ],
   "source": [
    "augumented_train_data.head(5)"
   ]
  },
  {
   "cell_type": "markdown",
   "id": "468bde1f",
   "metadata": {},
   "source": [
    "### Lista cu labelurile din new train data"
   ]
  },
  {
   "cell_type": "code",
   "execution_count": 14,
   "id": "9a94affa",
   "metadata": {},
   "outputs": [
    {
     "name": "stdout",
     "output_type": "stream",
     "text": [
      "[[0, 0, 0], [0, 0, 1], [0, 0, 0], [0, 0, 0], [0, 0, 0]]\n"
     ]
    }
   ],
   "source": [
    "label_list =[]\n",
    "  \n",
    "for rows in augumented_train_data.itertuples():\n",
    "    my_list =[rows.label1, rows.label2, rows.label3]\n",
    "    label_list.append(my_list)\n",
    "\n",
    "print(label_list[:5])"
   ]
  },
  {
   "cell_type": "code",
   "execution_count": 15,
   "id": "5a288481",
   "metadata": {},
   "outputs": [
    {
     "name": "stderr",
     "output_type": "stream",
     "text": [
      "100%|██████████| 12000/12000 [00:02<00:00, 4405.28it/s]\n"
     ]
    }
   ],
   "source": [
    "# creating two lists\n",
    "\n",
    "augumented_train_image = []\n",
    "augumented_label_list = []\n",
    "\n",
    "for i, j in zip(tqdm(range(augumented_train_data.shape[0])), label_list):\n",
    "        img = tf.keras.utils.load_img('../kaggle_competition/train_images/'+\n",
    "                                 augumented_train_data['id'][i],\n",
    "                                   target_size=(64,64))\n",
    "        img = tf.keras.utils.img_to_array(img)\n",
    "\n",
    "\n",
    "        \n",
    "        \n",
    "        #Horizontally flipped\n",
    "        hflipped_image= np.fliplr(img) #fliplr reverse the order of columns of pixels in matrix\n",
    "\n",
    "         #Vertically flipped\n",
    "        vflipped_image= np.flipud(img) #flipud reverse the order of rows of pixels in matrix\n",
    "\n",
    "\n",
    "\n",
    "        hflipped_image = hflipped_image/255\n",
    "        vflipped_image = vflipped_image/255\n",
    "        augumented_train_image.append(hflipped_image)\n",
    "#         augumented_train_image.append(vflipped_image)\n",
    "\n",
    "        augumented_label_list += ([j])\n",
    "    \n",
    "    \n"
   ]
  },
  {
   "cell_type": "code",
   "execution_count": 16,
   "id": "7c979f60",
   "metadata": {},
   "outputs": [],
   "source": [
    "# original_image = tf.keras.utils.load_img('../kaggle_competition/train_images/10001.png')\n",
    "# horrizontal_image = tf.keras.utils.array_to_img(augumented_train_image[2])\n",
    "# vertical_image = tf.keras.utils.array_to_img(augumented_train_image[3])\n",
    "\n",
    "# fig,ax = plt.subplots(nrows=1,ncols=3,figsize=(7,7))\n",
    "# ax[0].imshow(original_image)\n",
    "# ax[0].set_title(\"Original Image\",fontweight=\"bold\", size=10)\n",
    "# ax[1].imshow(horrizontal_image)\n",
    "# ax[1].set_title(\"Horizontal flipped\",fontweight=\"bold\", size=10)\n",
    "# ax[2].imshow(vertical_image)\n",
    "# ax[2].set_title(\"Vertically flipped\",fontweight=\"bold\", size=10);"
   ]
  },
  {
   "cell_type": "code",
   "execution_count": 17,
   "id": "5e23f545",
   "metadata": {},
   "outputs": [
    {
     "data": {
      "text/plain": [
       "Text(0.5, 1.0, 'Horizontal flipped')"
      ]
     },
     "execution_count": 17,
     "metadata": {},
     "output_type": "execute_result"
    },
    {
     "data": {
      "image/png": "[encoded data removed]",
      "text/plain": [
       "<Figure size 700x700 with 2 Axes>"
      ]
     },
     "metadata": {},
     "output_type": "display_data"
    }
   ],
   "source": [
    "original_image = tf.keras.utils.load_img('../kaggle_competition/train_images/10001.png')\n",
    "horrizontal_image = tf.keras.utils.array_to_img(augumented_train_image[1])\n",
    "\n",
    "fig,ax = plt.subplots(nrows=1,ncols=2,figsize=(7,7))\n",
    "ax[0].imshow(original_image)\n",
    "ax[0].set_title(\"Original Image\",fontweight=\"bold\", size=10)\n",
    "ax[1].imshow(horrizontal_image)\n",
    "ax[1].set_title(\"Horizontal flipped\",fontweight=\"bold\", size=10)\n"
   ]
  },
  {
   "cell_type": "code",
   "execution_count": null,
   "id": "e23f5208",
   "metadata": {},
   "outputs": [],
   "source": []
  },
  {
   "cell_type": "code",
   "execution_count": null,
   "id": "78b4d851",
   "metadata": {},
   "outputs": [],
   "source": []
  },
  {
   "cell_type": "code",
   "execution_count": 18,
   "id": "990b69e5",
   "metadata": {},
   "outputs": [
    {
     "name": "stderr",
     "output_type": "stream",
     "text": [
      "100%|██████████| 12000/12000 [00:01<00:00, 6025.17it/s]\n"
     ]
    }
   ],
   "source": [
    "#imaginile din train setul original\n",
    "\n",
    "train_image = []\n",
    "\n",
    "for i in tqdm(range(train_data.shape[0])):\n",
    "        img = tf.keras.utils.load_img('../kaggle_competition/train_images/'+\n",
    "                                 train_data['id'][i],\n",
    "                                   target_size=(64,64))\n",
    "        img = tf.keras.utils.img_to_array(img)\n",
    "\n",
    "\n",
    "        img = img/255.0\n",
    "        train_image.append(img)\n",
    "    \n",
    "    \n"
   ]
  },
  {
   "cell_type": "markdown",
   "id": "7c655186",
   "metadata": {},
   "source": [
    "### Create X_train and y_train by concatenating original train set with the augumented train set"
   ]
  },
  {
   "cell_type": "code",
   "execution_count": 19,
   "id": "844bcc07",
   "metadata": {},
   "outputs": [
    {
     "data": {
      "text/plain": [
       "(24000, 64, 64, 3)"
      ]
     },
     "execution_count": 19,
     "metadata": {},
     "output_type": "execute_result"
    }
   ],
   "source": [
    "augumented_X_train = np.array(augumented_train_image)\n",
    "original_X_train = np.array(train_image)\n",
    "X_train = np.concatenate((original_X_train, augumented_X_train))\n",
    "\n",
    "X_train.shape"
   ]
  },
  {
   "cell_type": "code",
   "execution_count": null,
   "id": "d4d080d6",
   "metadata": {},
   "outputs": [],
   "source": []
  },
  {
   "cell_type": "code",
   "execution_count": 20,
   "id": "1bd86569",
   "metadata": {},
   "outputs": [
    {
     "data": {
      "text/html": [
       "<div>\n",
       "<style scoped>\n",
       "    .dataframe tbody tr th:only-of-type {\n",
       "        vertical-align: middle;\n",
       "    }\n",
       "\n",
       "    .dataframe tbody tr th {\n",
       "        vertical-align: top;\n",
       "    }\n",
       "\n",
       "    .dataframe thead th {\n",
       "        text-align: right;\n",
       "    }\n",
       "</style>\n",
       "<table border=\"1\" class=\"dataframe\">\n",
       "  <thead>\n",
       "    <tr style=\"text-align: right;\">\n",
       "      <th></th>\n",
       "      <th>label1</th>\n",
       "      <th>label2</th>\n",
       "      <th>label3</th>\n",
       "    </tr>\n",
       "  </thead>\n",
       "  <tbody>\n",
       "    <tr>\n",
       "      <th>0</th>\n",
       "      <td>0</td>\n",
       "      <td>0</td>\n",
       "      <td>0</td>\n",
       "    </tr>\n",
       "    <tr>\n",
       "      <th>1</th>\n",
       "      <td>0</td>\n",
       "      <td>0</td>\n",
       "      <td>1</td>\n",
       "    </tr>\n",
       "    <tr>\n",
       "      <th>2</th>\n",
       "      <td>0</td>\n",
       "      <td>0</td>\n",
       "      <td>0</td>\n",
       "    </tr>\n",
       "    <tr>\n",
       "      <th>3</th>\n",
       "      <td>0</td>\n",
       "      <td>0</td>\n",
       "      <td>0</td>\n",
       "    </tr>\n",
       "    <tr>\n",
       "      <th>4</th>\n",
       "      <td>0</td>\n",
       "      <td>0</td>\n",
       "      <td>0</td>\n",
       "    </tr>\n",
       "    <tr>\n",
       "      <th>...</th>\n",
       "      <td>...</td>\n",
       "      <td>...</td>\n",
       "      <td>...</td>\n",
       "    </tr>\n",
       "    <tr>\n",
       "      <th>11995</th>\n",
       "      <td>0</td>\n",
       "      <td>0</td>\n",
       "      <td>0</td>\n",
       "    </tr>\n",
       "    <tr>\n",
       "      <th>11996</th>\n",
       "      <td>0</td>\n",
       "      <td>0</td>\n",
       "      <td>0</td>\n",
       "    </tr>\n",
       "    <tr>\n",
       "      <th>11997</th>\n",
       "      <td>0</td>\n",
       "      <td>0</td>\n",
       "      <td>0</td>\n",
       "    </tr>\n",
       "    <tr>\n",
       "      <th>11998</th>\n",
       "      <td>1</td>\n",
       "      <td>1</td>\n",
       "      <td>0</td>\n",
       "    </tr>\n",
       "    <tr>\n",
       "      <th>11999</th>\n",
       "      <td>0</td>\n",
       "      <td>0</td>\n",
       "      <td>0</td>\n",
       "    </tr>\n",
       "  </tbody>\n",
       "</table>\n",
       "<p>12000 rows × 3 columns</p>\n",
       "</div>"
      ],
      "text/plain": [
       "       label1  label2  label3\n",
       "0           0       0       0\n",
       "1           0       0       1\n",
       "2           0       0       0\n",
       "3           0       0       0\n",
       "4           0       0       0\n",
       "...       ...     ...     ...\n",
       "11995       0       0       0\n",
       "11996       0       0       0\n",
       "11997       0       0       0\n",
       "11998       1       1       0\n",
       "11999       0       0       0\n",
       "\n",
       "[12000 rows x 3 columns]"
      ]
     },
     "execution_count": 20,
     "metadata": {},
     "output_type": "execute_result"
    }
   ],
   "source": [
    "train_data.drop(['id'],axis=1)"
   ]
  },
  {
   "cell_type": "code",
   "execution_count": 21,
   "id": "a126dfb5",
   "metadata": {},
   "outputs": [
    {
     "data": {
      "text/plain": [
       "(24000, 3)"
      ]
     },
     "execution_count": 21,
     "metadata": {},
     "output_type": "execute_result"
    }
   ],
   "source": [
    "augumented_y_train = np.array(augumented_label_list)\n",
    "original_y_train = np.array(train_data.drop(['id'],axis=1))\n",
    "y_train = np.concatenate((original_y_train, augumented_y_train))\n",
    "\n",
    "y_train.shape"
   ]
  },
  {
   "cell_type": "code",
   "execution_count": null,
   "id": "e7faa574",
   "metadata": {},
   "outputs": [],
   "source": []
  },
  {
   "cell_type": "markdown",
   "id": "588d24bc",
   "metadata": {},
   "source": [
    "### Load validation data"
   ]
  },
  {
   "cell_type": "code",
   "execution_count": 22,
   "id": "d3f9747c",
   "metadata": {},
   "outputs": [
    {
     "data": {
      "text/html": [
       "<div>\n",
       "<style scoped>\n",
       "    .dataframe tbody tr th:only-of-type {\n",
       "        vertical-align: middle;\n",
       "    }\n",
       "\n",
       "    .dataframe tbody tr th {\n",
       "        vertical-align: top;\n",
       "    }\n",
       "\n",
       "    .dataframe thead th {\n",
       "        text-align: right;\n",
       "    }\n",
       "</style>\n",
       "<table border=\"1\" class=\"dataframe\">\n",
       "  <thead>\n",
       "    <tr style=\"text-align: right;\">\n",
       "      <th></th>\n",
       "      <th>id</th>\n",
       "      <th>label1</th>\n",
       "      <th>label2</th>\n",
       "      <th>label3</th>\n",
       "    </tr>\n",
       "  </thead>\n",
       "  <tbody>\n",
       "    <tr>\n",
       "      <th>0</th>\n",
       "      <td>40000.png</td>\n",
       "      <td>0</td>\n",
       "      <td>0</td>\n",
       "      <td>0</td>\n",
       "    </tr>\n",
       "    <tr>\n",
       "      <th>1</th>\n",
       "      <td>40001.png</td>\n",
       "      <td>0</td>\n",
       "      <td>0</td>\n",
       "      <td>0</td>\n",
       "    </tr>\n",
       "    <tr>\n",
       "      <th>2</th>\n",
       "      <td>40002.png</td>\n",
       "      <td>0</td>\n",
       "      <td>0</td>\n",
       "      <td>0</td>\n",
       "    </tr>\n",
       "    <tr>\n",
       "      <th>3</th>\n",
       "      <td>40003.png</td>\n",
       "      <td>1</td>\n",
       "      <td>1</td>\n",
       "      <td>0</td>\n",
       "    </tr>\n",
       "    <tr>\n",
       "      <th>4</th>\n",
       "      <td>40004.png</td>\n",
       "      <td>0</td>\n",
       "      <td>0</td>\n",
       "      <td>0</td>\n",
       "    </tr>\n",
       "  </tbody>\n",
       "</table>\n",
       "</div>"
      ],
      "text/plain": [
       "          id  label1  label2  label3\n",
       "0  40000.png       0       0       0\n",
       "1  40001.png       0       0       0\n",
       "2  40002.png       0       0       0\n",
       "3  40003.png       1       1       0\n",
       "4  40004.png       0       0       0"
      ]
     },
     "execution_count": 22,
     "metadata": {},
     "output_type": "execute_result"
    }
   ],
   "source": [
    "val_data = pd.read_csv('../kaggle_competition/val_labels.csv')\n",
    "val_data.head()"
   ]
  },
  {
   "cell_type": "code",
   "execution_count": 23,
   "id": "03dbaf30",
   "metadata": {},
   "outputs": [
    {
     "name": "stderr",
     "output_type": "stream",
     "text": [
      "100%|██████████| 3000/3000 [00:00<00:00, 5885.34it/s]\n"
     ]
    }
   ],
   "source": [
    "val_image = []\n",
    "for i in tqdm(range(val_data.shape[0])):\n",
    "    img = tf.keras.utils.load_img('../kaggle_competition/val_images/'+\n",
    "                         val_data['id'][i],\n",
    "                           target_size=(64,64))\n",
    "    img = tf.keras.utils.img_to_array(img)\n",
    "\n",
    "\n",
    "    img = img/255.0\n",
    "    val_image.append(img)\n",
    "    \n",
    "X_val = np.array(val_image)\n"
   ]
  },
  {
   "cell_type": "code",
   "execution_count": 24,
   "id": "31077e4f",
   "metadata": {},
   "outputs": [
    {
     "data": {
      "text/plain": [
       "(3000, 64, 64, 3)"
      ]
     },
     "execution_count": 24,
     "metadata": {},
     "output_type": "execute_result"
    }
   ],
   "source": [
    "X_val.shape"
   ]
  },
  {
   "cell_type": "code",
   "execution_count": 25,
   "id": "cdf8dbde",
   "metadata": {},
   "outputs": [
    {
     "data": {
      "text/plain": [
       "(3000, 3)"
      ]
     },
     "execution_count": 25,
     "metadata": {},
     "output_type": "execute_result"
    }
   ],
   "source": [
    "y_val = np.array(val_data.drop(['id'],axis=1))\n",
    "y_val.shape"
   ]
  },
  {
   "cell_type": "code",
   "execution_count": null,
   "id": "f7878bbc",
   "metadata": {},
   "outputs": [],
   "source": []
  },
  {
   "cell_type": "markdown",
   "id": "b41e4843",
   "metadata": {},
   "source": [
    "### Create CNN Model"
   ]
  },
  {
   "cell_type": "code",
   "execution_count": 26,
   "id": "001081b4",
   "metadata": {},
   "outputs": [],
   "source": [
    "\n",
    "model = Sequential()\n",
    "\n",
    "model.add(Conv2D(filters=32, kernel_size=(3, 3), activation=\"relu\", input_shape=(64,64,3)))\n",
    "model.add(MaxPooling2D(pool_size=(2, 2)))\n",
    "model.add(Dropout(0.25))\n",
    "\n",
    "model.add(Conv2D(filters=32, kernel_size=(3, 3), activation='relu'))\n",
    "model.add(MaxPooling2D(pool_size=(2, 2)))\n",
    "model.add(Dropout(0.35))\n",
    "\n",
    "model.add(Conv2D(filters=32, kernel_size=(3, 3), activation='relu'))\n",
    "model.add(MaxPooling2D(pool_size=(2, 2)))\n",
    "model.add(Dropout(0.25))\n",
    "\n",
    "model.add(Conv2D(filters=32, kernel_size=(3, 3), activation=\"relu\"))\n",
    "model.add(MaxPooling2D(pool_size=(2, 2)))\n",
    "model.add(Dropout(0.25))\n",
    "\n",
    "model.add(Flatten())\n",
    "model.add(Dense(32, activation='relu'))\n",
    "model.add(Dropout(0.5))\n",
    "\n",
    "model.add(Dense(32, activation='relu'))\n",
    "model.add(Dropout(0.5))\n",
    "\n",
    "model.add(Dense(3, activation='sigmoid'))"
   ]
  },
  {
   "cell_type": "code",
   "execution_count": null,
   "id": "b53330fa",
   "metadata": {},
   "outputs": [],
   "source": []
  },
  {
   "cell_type": "code",
   "execution_count": 27,
   "id": "8c6ac8fe",
   "metadata": {},
   "outputs": [
    {
     "name": "stdout",
     "output_type": "stream",
     "text": [
      "Model: \"sequential\"\n",
      "_________________________________________________________________\n",
      " Layer (type)                Output Shape              Param #   \n",
      "=================================================================\n",
      " conv2d (Conv2D)             (None, 62, 62, 32)        896       \n",
      "                                                                 \n",
      " max_pooling2d (MaxPooling2D  (None, 31, 31, 32)       0         \n",
      " )                                                               \n",
      "                                                                 \n",
      " dropout (Dropout)           (None, 31, 31, 32)        0         \n",
      "                                                                 \n",
      " conv2d_1 (Conv2D)           (None, 29, 29, 32)        9248      \n",
      "                                                                 \n",
      " max_pooling2d_1 (MaxPooling  (None, 14, 14, 32)       0         \n",
      " 2D)                                                             \n",
      "                                                                 \n",
      " dropout_1 (Dropout)         (None, 14, 14, 32)        0         \n",
      "                                                                 \n",
      " conv2d_2 (Conv2D)           (None, 12, 12, 32)        9248      \n",
      "                                                                 \n",
      " max_pooling2d_2 (MaxPooling  (None, 6, 6, 32)         0         \n",
      " 2D)                                                             \n",
      "                                                                 \n",
      " dropout_2 (Dropout)         (None, 6, 6, 32)          0         \n",
      "                                                                 \n",
      " conv2d_3 (Conv2D)           (None, 4, 4, 32)          9248      \n",
      "                                                                 \n",
      " max_pooling2d_3 (MaxPooling  (None, 2, 2, 32)         0         \n",
      " 2D)                                                             \n",
      "                                                                 \n",
      " dropout_3 (Dropout)         (None, 2, 2, 32)          0         \n",
      "                                                                 \n",
      " flatten (Flatten)           (None, 128)               0         \n",
      "                                                                 \n",
      " dense (Dense)               (None, 32)                4128      \n",
      "                                                                 \n",
      " dropout_4 (Dropout)         (None, 32)                0         \n",
      "                                                                 \n",
      " dense_1 (Dense)             (None, 32)                1056      \n",
      "                                                                 \n",
      " dropout_5 (Dropout)         (None, 32)                0         \n",
      "                                                                 \n",
      " dense_2 (Dense)             (None, 3)                 99        \n",
      "                                                                 \n",
      "=================================================================\n",
      "Total params: 33,923\n",
      "Trainable params: 33,923\n",
      "Non-trainable params: 0\n",
      "_________________________________________________________________\n"
     ]
    }
   ],
   "source": [
    "model.summary()\n"
   ]
  },
  {
   "cell_type": "code",
   "execution_count": null,
   "id": "27cd3cd1",
   "metadata": {},
   "outputs": [],
   "source": []
  },
  {
   "cell_type": "code",
   "execution_count": 28,
   "id": "5972c1ea",
   "metadata": {},
   "outputs": [],
   "source": [
    "def get_f1(y_true, y_pred): \n",
    "    true_positives = K.sum(K.round(K.clip(y_true * y_pred, 0, 1)))\n",
    "    possible_positives = K.sum(K.round(K.clip(y_true, 0, 1)))\n",
    "    predicted_positives = K.sum(K.round(K.clip(y_pred, 0, 1)))\n",
    "    precision = true_positives / (predicted_positives + K.epsilon())\n",
    "    recall = true_positives / (possible_positives + K.epsilon())\n",
    "    f1_val = 2*(precision*recall)/(precision+recall+K.epsilon())\n",
    "    return f1_val"
   ]
  },
  {
   "cell_type": "code",
   "execution_count": 29,
   "id": "611416e3",
   "metadata": {},
   "outputs": [],
   "source": [
    "es = EarlyStopping(monitor='val_loss', mode='min', patience=4,restore_best_weights=True, verbose=1)"
   ]
  },
  {
   "cell_type": "code",
   "execution_count": 30,
   "id": "5d117ed0",
   "metadata": {},
   "outputs": [],
   "source": [
    "optimizer = tf.keras.optimizers.Adam(learning_rate=0.001)"
   ]
  },
  {
   "cell_type": "code",
   "execution_count": 31,
   "id": "0ba253e1",
   "metadata": {},
   "outputs": [],
   "source": [
    "model.compile(optimizer=optimizer, loss='binary_crossentropy', metrics=[get_f1, \"accuracy\"])"
   ]
  },
  {
   "cell_type": "code",
   "execution_count": 32,
   "id": "ada599c1",
   "metadata": {},
   "outputs": [
    {
     "name": "stdout",
     "output_type": "stream",
     "text": [
      "Epoch 1/20\n",
      "375/375 [==============================] - 22s 56ms/step - loss: 0.4574 - get_f1: 0.7143 - accuracy: 0.6771 - val_loss: 0.3451 - val_get_f1: 0.8120 - val_accuracy: 0.9660\n",
      "Epoch 2/20\n",
      "375/375 [==============================] - 21s 56ms/step - loss: 0.3365 - get_f1: 0.8079 - accuracy: 0.8370 - val_loss: 0.3227 - val_get_f1: 0.8383 - val_accuracy: 0.9660\n",
      "Epoch 3/20\n",
      "375/375 [==============================] - 21s 56ms/step - loss: 0.3086 - get_f1: 0.8336 - accuracy: 0.8560 - val_loss: 0.2858 - val_get_f1: 0.8593 - val_accuracy: 0.9660\n",
      "Epoch 4/20\n",
      "375/375 [==============================] - 21s 55ms/step - loss: 0.2921 - get_f1: 0.8458 - accuracy: 0.8878 - val_loss: 0.2740 - val_get_f1: 0.8598 - val_accuracy: 0.9660\n",
      "Epoch 5/20\n",
      "375/375 [==============================] - 21s 55ms/step - loss: 0.2814 - get_f1: 0.8537 - accuracy: 0.8783 - val_loss: 0.2741 - val_get_f1: 0.8577 - val_accuracy: 0.9660\n",
      "Epoch 6/20\n",
      "375/375 [==============================] - 21s 55ms/step - loss: 0.2710 - get_f1: 0.8618 - accuracy: 0.8746 - val_loss: 0.2646 - val_get_f1: 0.8677 - val_accuracy: 0.9660\n",
      "Epoch 7/20\n",
      "375/375 [==============================] - 21s 55ms/step - loss: 0.2685 - get_f1: 0.8633 - accuracy: 0.8692 - val_loss: 0.2802 - val_get_f1: 0.8545 - val_accuracy: 0.9660\n",
      "Epoch 8/20\n",
      "375/375 [==============================] - 21s 55ms/step - loss: 0.2604 - get_f1: 0.8688 - accuracy: 0.8679 - val_loss: 0.2674 - val_get_f1: 0.8645 - val_accuracy: 0.9660\n",
      "Epoch 9/20\n",
      "375/375 [==============================] - 21s 55ms/step - loss: 0.2555 - get_f1: 0.8723 - accuracy: 0.8500 - val_loss: 0.2670 - val_get_f1: 0.8646 - val_accuracy: 0.9660\n",
      "Epoch 10/20\n",
      "375/375 [==============================] - 21s 55ms/step - loss: 0.2543 - get_f1: 0.8739 - accuracy: 0.8585 - val_loss: 0.2568 - val_get_f1: 0.8666 - val_accuracy: 0.9643\n",
      "Epoch 11/20\n",
      "375/375 [==============================] - 21s 55ms/step - loss: 0.2503 - get_f1: 0.8769 - accuracy: 0.8492 - val_loss: 0.2523 - val_get_f1: 0.8746 - val_accuracy: 0.9660\n",
      "Epoch 12/20\n",
      "375/375 [==============================] - 21s 55ms/step - loss: 0.2477 - get_f1: 0.8782 - accuracy: 0.8579 - val_loss: 0.2497 - val_get_f1: 0.8767 - val_accuracy: 0.9557\n",
      "Epoch 13/20\n",
      "375/375 [==============================] - 21s 55ms/step - loss: 0.2455 - get_f1: 0.8804 - accuracy: 0.8360 - val_loss: 0.2515 - val_get_f1: 0.8732 - val_accuracy: 0.9657\n",
      "Epoch 14/20\n",
      "375/375 [==============================] - 21s 55ms/step - loss: 0.2445 - get_f1: 0.8817 - accuracy: 0.8298 - val_loss: 0.2707 - val_get_f1: 0.8678 - val_accuracy: 0.9660\n",
      "Epoch 15/20\n",
      "375/375 [==============================] - 21s 55ms/step - loss: 0.2433 - get_f1: 0.8831 - accuracy: 0.8387 - val_loss: 0.2622 - val_get_f1: 0.8694 - val_accuracy: 0.9573\n",
      "Epoch 16/20\n",
      "375/375 [==============================] - ETA: 0s - loss: 0.2414 - get_f1: 0.8840 - accuracy: 0.8301Restoring model weights from the end of the best epoch: 12.\n",
      "375/375 [==============================] - 21s 55ms/step - loss: 0.2414 - get_f1: 0.8840 - accuracy: 0.8301 - val_loss: 0.2560 - val_get_f1: 0.8722 - val_accuracy: 0.9660\n",
      "Epoch 16: early stopping\n"
     ]
    }
   ],
   "source": [
    "history = model.fit(X_train, y_train, epochs=20, validation_data=(X_val, y_val), shuffle=True, batch_size = 64, callbacks=[es])"
   ]
  },
  {
   "cell_type": "code",
   "execution_count": 33,
   "id": "e653bf90",
   "metadata": {},
   "outputs": [
    {
     "data": {
      "text/plain": [
       "<matplotlib.legend.Legend at 0x2ca9ee67e80>"
      ]
     },
     "execution_count": 33,
     "metadata": {},
     "output_type": "execute_result"
    },
    {
     "data": {
      "image/png": "[encoded data removed]",
      "text/plain": [
       "<Figure size 1700x300 with 3 Axes>"
      ]
     },
     "metadata": {},
     "output_type": "display_data"
    }
   ],
   "source": [
    "fig,ax = plt.subplots(nrows=1,ncols=3, figsize=(17,3))\n",
    "ax[0].plot(history.history['get_f1'], color='teal', label='f1_score')\n",
    "ax[0].plot(history.history['val_get_f1'], color='orange', label='val_f1_score')\n",
    "ax[0].set_title('F1 Score', fontsize=20)\n",
    "ax[0].legend(loc=\"upper left\")\n",
    "ax[1].plot(history.history['loss'], color='teal', label='loss')\n",
    "ax[1].plot(history.history['val_loss'], color='orange', label='val_loss')\n",
    "ax[1].set_title('Loss', fontsize=20)\n",
    "ax[1].legend(loc=\"upper left\")\n",
    "ax[2].plot(history.history['accuracy'], color='teal', label='accuracy')\n",
    "ax[2].plot(history.history['val_accuracy'], color='orange', label='val_accuracy')\n",
    "ax[2].set_title('Accuracy', fontsize=20)\n",
    "ax[2].legend(loc=\"upper left\")"
   ]
  },
  {
   "cell_type": "code",
   "execution_count": null,
   "id": "e3a6d11c",
   "metadata": {},
   "outputs": [],
   "source": []
  },
  {
   "cell_type": "code",
   "execution_count": 34,
   "id": "a8c07b5b",
   "metadata": {},
   "outputs": [
    {
     "name": "stdout",
     "output_type": "stream",
     "text": [
      "1/1 [==============================] - 0s 76ms/step\n",
      "Pred:  Actual:  \n",
      "[0 0 0] [0 0 0]\n",
      "[0 0 0] [0 0 0]\n",
      "[0 0 0] [0 0 0]\n",
      "[1 1 0] [1 1 0]\n",
      "[0 0 0] [0 0 0]\n",
      "[0 0 0] [0 0 0]\n",
      "[0 0 0] [0 0 0]\n",
      "[0 0 0] [0 0 0]\n",
      "[0 0 0] [0 0 0]\n",
      "[0 0 0] [0 0 0]\n",
      "[0 0 0] [0 0 0]\n",
      "[1 1 1] [1 1 1]\n",
      "[1 1 1] [1 1 1]\n",
      "[1 1 0] [1 1 0]\n",
      "[1 1 0] [1 0 0]\n"
     ]
    }
   ],
   "source": [
    "predictions = model.predict(X_val[:15]) \n",
    "a =  np.matrix.round(predictions).astype(int)\n",
    "b =  y_val[:15]\n",
    "\n",
    "res = \"\\n\".join(\"{} {}\".format(x, y) for x, y in zip(a, b))\n",
    "print(\"Pred:  Actual:  \")\n",
    "print(res)\n"
   ]
  },
  {
   "cell_type": "code",
   "execution_count": 35,
   "id": "148ecf82",
   "metadata": {},
   "outputs": [
    {
     "name": "stdout",
     "output_type": "stream",
     "text": [
      "94/94 [==============================] - 1s 7ms/step\n",
      "              precision    recall  f1-score   support\n",
      "\n",
      "     label 1       0.90      0.94      0.92      1447\n",
      "     label 2       0.84      0.88      0.86      1153\n",
      "     label 3       0.82      0.82      0.82       684\n",
      "\n",
      "   micro avg       0.86      0.89      0.88      3284\n",
      "   macro avg       0.85      0.88      0.87      3284\n",
      "weighted avg       0.86      0.89      0.88      3284\n",
      " samples avg       0.42      0.45      0.43      3284\n",
      "\n"
     ]
    },
    {
     "name": "stderr",
     "output_type": "stream",
     "text": [
      "C:\\Users\\PesikaMau\\anaconda3\\envs\\deeplearning\\lib\\site-packages\\sklearn\\metrics\\_classification.py:1334: UndefinedMetricWarning: Precision and F-score are ill-defined and being set to 0.0 in samples with no predicted labels. Use `zero_division` parameter to control this behavior.\n",
      "  _warn_prf(average, modifier, msg_start, len(result))\n",
      "C:\\Users\\PesikaMau\\anaconda3\\envs\\deeplearning\\lib\\site-packages\\sklearn\\metrics\\_classification.py:1334: UndefinedMetricWarning: Recall and F-score are ill-defined and being set to 0.0 in samples with no true labels. Use `zero_division` parameter to control this behavior.\n",
      "  _warn_prf(average, modifier, msg_start, len(result))\n"
     ]
    }
   ],
   "source": [
    "\n",
    "y_pred = model.predict(X_val)\n",
    "y_pred_bool = np.matrix.round(y_pred).astype(int)\n",
    "\n",
    "label_names = ['label 1', 'label 2', 'label 3']\n",
    "\n",
    "print(classification_report(y_val, y_pred_bool,target_names=label_names))"
   ]
  },
  {
   "cell_type": "code",
   "execution_count": 36,
   "id": "d82d8e6c",
   "metadata": {},
   "outputs": [
    {
     "data": {
      "text/html": [
       "<div>\n",
       "<style scoped>\n",
       "    .dataframe tbody tr th:only-of-type {\n",
       "        vertical-align: middle;\n",
       "    }\n",
       "\n",
       "    .dataframe tbody tr th {\n",
       "        vertical-align: top;\n",
       "    }\n",
       "\n",
       "    .dataframe thead th {\n",
       "        text-align: right;\n",
       "    }\n",
       "</style>\n",
       "<table border=\"1\" class=\"dataframe\">\n",
       "  <thead>\n",
       "    <tr style=\"text-align: right;\">\n",
       "      <th></th>\n",
       "      <th>id</th>\n",
       "      <th>label1</th>\n",
       "      <th>label2</th>\n",
       "      <th>label3</th>\n",
       "    </tr>\n",
       "  </thead>\n",
       "  <tbody>\n",
       "    <tr>\n",
       "      <th>0</th>\n",
       "      <td>70000.png</td>\n",
       "      <td>0</td>\n",
       "      <td>0</td>\n",
       "      <td>0</td>\n",
       "    </tr>\n",
       "    <tr>\n",
       "      <th>1</th>\n",
       "      <td>70001.png</td>\n",
       "      <td>0</td>\n",
       "      <td>0</td>\n",
       "      <td>0</td>\n",
       "    </tr>\n",
       "    <tr>\n",
       "      <th>2</th>\n",
       "      <td>70002.png</td>\n",
       "      <td>0</td>\n",
       "      <td>0</td>\n",
       "      <td>0</td>\n",
       "    </tr>\n",
       "    <tr>\n",
       "      <th>3</th>\n",
       "      <td>70003.png</td>\n",
       "      <td>0</td>\n",
       "      <td>0</td>\n",
       "      <td>0</td>\n",
       "    </tr>\n",
       "    <tr>\n",
       "      <th>4</th>\n",
       "      <td>70004.png</td>\n",
       "      <td>0</td>\n",
       "      <td>0</td>\n",
       "      <td>0</td>\n",
       "    </tr>\n",
       "  </tbody>\n",
       "</table>\n",
       "</div>"
      ],
      "text/plain": [
       "          id  label1  label2  label3\n",
       "0  70000.png       0       0       0\n",
       "1  70001.png       0       0       0\n",
       "2  70002.png       0       0       0\n",
       "3  70003.png       0       0       0\n",
       "4  70004.png       0       0       0"
      ]
     },
     "execution_count": 36,
     "metadata": {},
     "output_type": "execute_result"
    }
   ],
   "source": [
    "test_data_kgl = pd.read_csv('../kaggle_competition/sample_submission.csv')\n",
    "# data = data.head(100)\n",
    "test_data_kgl.head()"
   ]
  },
  {
   "cell_type": "code",
   "execution_count": 37,
   "id": "08268bdb",
   "metadata": {},
   "outputs": [
    {
     "name": "stderr",
     "output_type": "stream",
     "text": [
      "100%|██████████| 5000/5000 [00:00<00:00, 5858.17it/s]\n"
     ]
    }
   ],
   "source": [
    "test_image_kgl = []\n",
    "for i in tqdm(range(test_data_kgl.shape[0])):\n",
    "    img = tf.keras.utils.load_img('../kaggle_competition/test_images/'+\n",
    "                         test_data_kgl['id'][i],\n",
    "                           target_size=(64,64))\n",
    "    img = tf.keras.utils.img_to_array(img)\n",
    "    img = img/255.0\n",
    "    test_image_kgl.append(img)\n",
    "    \n",
    "X_test = np.array(test_image_kgl)"
   ]
  },
  {
   "cell_type": "code",
   "execution_count": 38,
   "id": "aaacc0d0",
   "metadata": {},
   "outputs": [
    {
     "name": "stdout",
     "output_type": "stream",
     "text": [
      "157/157 [==============================] - 1s 7ms/step\n"
     ]
    }
   ],
   "source": [
    "predictions = model.predict(X_test)\n",
    "predictions = np.matrix.round(predictions).astype(int)"
   ]
  },
  {
   "cell_type": "code",
   "execution_count": 39,
   "id": "a3a683af",
   "metadata": {},
   "outputs": [],
   "source": [
    "predictions = pd.DataFrame(predictions,columns=[\"label1\", 'label2', 'label3'])"
   ]
  },
  {
   "cell_type": "code",
   "execution_count": 40,
   "id": "14ee701f",
   "metadata": {},
   "outputs": [],
   "source": [
    "sub = pd.concat([test_data_kgl.id,predictions],axis=1)\n",
    "sub.set_index('id',inplace=True)"
   ]
  },
  {
   "cell_type": "code",
   "execution_count": 41,
   "id": "793130d1",
   "metadata": {},
   "outputs": [
    {
     "name": "stdout",
     "output_type": "stream",
     "text": [
      "Predictions: \n",
      "       label1  label2  label3\n",
      "0          1       1       1\n",
      "1          1       1       0\n",
      "2          0       0       0\n",
      "3          0       0       0\n",
      "4          1       1       0\n",
      "...      ...     ...     ...\n",
      "4995       0       0       0\n",
      "4996       0       0       0\n",
      "4997       0       0       0\n",
      "4998       0       0       0\n",
      "4999       0       0       0\n",
      "\n",
      "[5000 rows x 3 columns]\n"
     ]
    }
   ],
   "source": [
    "print(\"Predictions: \\n\", predictions[:7])"
   ]
  },
  {
   "cell_type": "code",
   "execution_count": 42,
   "id": "79d61e79",
   "metadata": {},
   "outputs": [],
   "source": [
    "sub.to_csv(f\"Submission_file_proiect_copie.csv\")"
   ]
  },
  {
   "cell_type": "code",
   "execution_count": null,
   "id": "b200408e",
   "metadata": {},
   "outputs": [],
   "source": []
  },
  {
   "cell_type": "code",
   "execution_count": null,
   "id": "985fee0c",
   "metadata": {},
   "outputs": [],
   "source": []
  },
  {
   "cell_type": "markdown",
   "id": "81eb5967",
   "metadata": {},
   "source": [
    "# Dense Neural Network"
   ]
  },
  {
   "cell_type": "code",
   "execution_count": null,
   "id": "ea1a7d4d",
   "metadata": {},
   "outputs": [],
   "source": []
  },
  {
   "cell_type": "code",
   "execution_count": 43,
   "id": "a0c93e55",
   "metadata": {},
   "outputs": [
    {
     "name": "stderr",
     "output_type": "stream",
     "text": [
      "100%|██████████| 12000/12000 [00:08<00:00, 1375.58it/s]\n"
     ]
    }
   ],
   "source": [
    "# creating two lists\n",
    "\n",
    "\n",
    "augumented_train_image = []\n",
    "augumented_label_list = []\n",
    "\n",
    "for i, j in zip(tqdm(range(augumented_train_data.shape[0])), label_list):\n",
    "        img = tf.keras.utils.load_img('../kaggle_competition/train_images/'+\n",
    "                                 augumented_train_data['id'][i],\n",
    "                                   target_size=(64,64))\n",
    "        img = tf.keras.utils.img_to_array(img)\n",
    "\n",
    "        mirror_img = tf.image.flip_left_right(img)\n",
    "        updown_img = tf.image.flip_up_down(img)\n",
    "\n",
    "        \n",
    "        \n",
    "        #Horizontally flipped\n",
    "        hflipped_image= np.fliplr(img) \n",
    "\n",
    "         #Vertically flipped\n",
    "        vflipped_image= np.flipud(img) \n",
    "\n",
    "\n",
    "\n",
    "        hflipped_image = hflipped_image/255\n",
    "        vflipped_image = vflipped_image/255\n",
    "        augumented_train_image.append(hflipped_image)\n",
    "        augumented_train_image.append(vflipped_image)\n",
    "\n",
    "        augumented_label_list += ([j]*2)\n",
    "    \n",
    "    \n"
   ]
  },
  {
   "cell_type": "code",
   "execution_count": 44,
   "id": "8729703f",
   "metadata": {},
   "outputs": [
    {
     "data": {
      "text/plain": [
       "(36000, 64, 64, 3)"
      ]
     },
     "execution_count": 44,
     "metadata": {},
     "output_type": "execute_result"
    }
   ],
   "source": [
    "augumented_X_train = np.array(augumented_train_image)\n",
    "original_X_train = np.array(train_image)\n",
    "X_train = np.concatenate((original_X_train, augumented_X_train))\n",
    "\n",
    "X_train.shape"
   ]
  },
  {
   "cell_type": "code",
   "execution_count": 45,
   "id": "cdc44b1d",
   "metadata": {},
   "outputs": [
    {
     "data": {
      "text/plain": [
       "(36000, 3)"
      ]
     },
     "execution_count": 45,
     "metadata": {},
     "output_type": "execute_result"
    }
   ],
   "source": [
    "augumented_y_train = np.array(augumented_label_list)\n",
    "original_y_train = np.array(train_data.drop(['id'],axis=1))\n",
    "y_train = np.concatenate((original_y_train, augumented_y_train))\n",
    "\n",
    "y_train.shape"
   ]
  },
  {
   "cell_type": "code",
   "execution_count": null,
   "id": "fb2e061f",
   "metadata": {},
   "outputs": [],
   "source": []
  },
  {
   "cell_type": "code",
   "execution_count": null,
   "id": "3b515f91",
   "metadata": {},
   "outputs": [],
   "source": []
  },
  {
   "cell_type": "code",
   "execution_count": 46,
   "id": "5702620d",
   "metadata": {},
   "outputs": [],
   "source": [
    "model = Sequential()\n",
    "\n",
    "model.add(Flatten(input_shape=(64,64,3)))\n",
    "model.add(Dense(200, activation='relu'))\n",
    "model.add(Dropout(0.5))\n",
    "\n",
    "model.add(Dense(200, activation='relu'))\n",
    "model.add(Dropout(0.5))\n",
    "\n",
    "model.add(Dense(200, activation='relu'))\n",
    "model.add(Dropout(0.5))\n",
    "\n",
    "model.add(Dense(200, activation='relu'))\n",
    "model.add(Dropout(0.5))\n",
    "\n",
    "model.add(Dense(3, activation='sigmoid'))"
   ]
  },
  {
   "cell_type": "code",
   "execution_count": 47,
   "id": "ffc946db",
   "metadata": {},
   "outputs": [
    {
     "name": "stdout",
     "output_type": "stream",
     "text": [
      "Model: \"sequential_1\"\n",
      "_________________________________________________________________\n",
      " Layer (type)                Output Shape              Param #   \n",
      "=================================================================\n",
      " flatten_1 (Flatten)         (None, 12288)             0         \n",
      "                                                                 \n",
      " dense_3 (Dense)             (None, 200)               2457800   \n",
      "                                                                 \n",
      " dropout_6 (Dropout)         (None, 200)               0         \n",
      "                                                                 \n",
      " dense_4 (Dense)             (None, 200)               40200     \n",
      "                                                                 \n",
      " dropout_7 (Dropout)         (None, 200)               0         \n",
      "                                                                 \n",
      " dense_5 (Dense)             (None, 200)               40200     \n",
      "                                                                 \n",
      " dropout_8 (Dropout)         (None, 200)               0         \n",
      "                                                                 \n",
      " dense_6 (Dense)             (None, 200)               40200     \n",
      "                                                                 \n",
      " dropout_9 (Dropout)         (None, 200)               0         \n",
      "                                                                 \n",
      " dense_7 (Dense)             (None, 3)                 603       \n",
      "                                                                 \n",
      "=================================================================\n",
      "Total params: 2,579,003\n",
      "Trainable params: 2,579,003\n",
      "Non-trainable params: 0\n",
      "_________________________________________________________________\n"
     ]
    }
   ],
   "source": [
    "model.summary()\n"
   ]
  },
  {
   "cell_type": "code",
   "execution_count": 48,
   "id": "cbccabfa",
   "metadata": {},
   "outputs": [],
   "source": [
    "optimizer = tf.keras.optimizers.SGD(learning_rate=0.01)"
   ]
  },
  {
   "cell_type": "code",
   "execution_count": 49,
   "id": "440019da",
   "metadata": {},
   "outputs": [],
   "source": [
    "model.compile(optimizer=optimizer, loss='binary_crossentropy', metrics=[get_f1, \"accuracy\"])"
   ]
  },
  {
   "cell_type": "code",
   "execution_count": 50,
   "id": "21599c04",
   "metadata": {},
   "outputs": [
    {
     "name": "stdout",
     "output_type": "stream",
     "text": [
      "Epoch 1/50\n",
      "450/450 [==============================] - 3s 6ms/step - loss: 0.6351 - get_f1: 0.6276 - accuracy: 0.6871 - val_loss: 0.5647 - val_get_f1: 0.7266 - val_accuracy: 0.9660\n",
      "Epoch 2/50\n",
      "450/450 [==============================] - 3s 6ms/step - loss: 0.5319 - get_f1: 0.7078 - accuracy: 0.9159 - val_loss: 0.4830 - val_get_f1: 0.7280 - val_accuracy: 0.9660\n",
      "Epoch 3/50\n",
      "450/450 [==============================] - 3s 6ms/step - loss: 0.4660 - get_f1: 0.7138 - accuracy: 0.9249 - val_loss: 0.4381 - val_get_f1: 0.7188 - val_accuracy: 0.9660\n",
      "Epoch 4/50\n",
      "450/450 [==============================] - 3s 6ms/step - loss: 0.4281 - get_f1: 0.7181 - accuracy: 0.9151 - val_loss: 0.4144 - val_get_f1: 0.7262 - val_accuracy: 0.9660\n",
      "Epoch 5/50\n",
      "450/450 [==============================] - 3s 6ms/step - loss: 0.4074 - get_f1: 0.7228 - accuracy: 0.9127 - val_loss: 0.3989 - val_get_f1: 0.7347 - val_accuracy: 0.9660\n",
      "Epoch 6/50\n",
      "450/450 [==============================] - 3s 6ms/step - loss: 0.3919 - get_f1: 0.7308 - accuracy: 0.9144 - val_loss: 0.3881 - val_get_f1: 0.7387 - val_accuracy: 0.9660\n",
      "Epoch 7/50\n",
      "450/450 [==============================] - 3s 6ms/step - loss: 0.3803 - get_f1: 0.7389 - accuracy: 0.9195 - val_loss: 0.3808 - val_get_f1: 0.7506 - val_accuracy: 0.9660\n",
      "Epoch 8/50\n",
      "450/450 [==============================] - 3s 6ms/step - loss: 0.3692 - get_f1: 0.7485 - accuracy: 0.9265 - val_loss: 0.3761 - val_get_f1: 0.7480 - val_accuracy: 0.9660\n",
      "Epoch 9/50\n",
      "450/450 [==============================] - 3s 6ms/step - loss: 0.3622 - get_f1: 0.7527 - accuracy: 0.9336 - val_loss: 0.3706 - val_get_f1: 0.7578 - val_accuracy: 0.9660\n",
      "Epoch 10/50\n",
      "450/450 [==============================] - 3s 6ms/step - loss: 0.3539 - get_f1: 0.7621 - accuracy: 0.9383 - val_loss: 0.3678 - val_get_f1: 0.7596 - val_accuracy: 0.9660\n",
      "Epoch 11/50\n",
      "450/450 [==============================] - 3s 6ms/step - loss: 0.3491 - get_f1: 0.7680 - accuracy: 0.9440 - val_loss: 0.3652 - val_get_f1: 0.7598 - val_accuracy: 0.9660\n",
      "Epoch 12/50\n",
      "450/450 [==============================] - 3s 6ms/step - loss: 0.3410 - get_f1: 0.7750 - accuracy: 0.9502 - val_loss: 0.3600 - val_get_f1: 0.7707 - val_accuracy: 0.9660\n",
      "Epoch 13/50\n",
      "450/450 [==============================] - 3s 6ms/step - loss: 0.3359 - get_f1: 0.7817 - accuracy: 0.9538 - val_loss: 0.3560 - val_get_f1: 0.7730 - val_accuracy: 0.9660\n",
      "Epoch 14/50\n",
      "450/450 [==============================] - 3s 6ms/step - loss: 0.3295 - get_f1: 0.7886 - accuracy: 0.9584 - val_loss: 0.3535 - val_get_f1: 0.7758 - val_accuracy: 0.9660\n",
      "Epoch 15/50\n",
      "450/450 [==============================] - 3s 6ms/step - loss: 0.3259 - get_f1: 0.7900 - accuracy: 0.9622 - val_loss: 0.3476 - val_get_f1: 0.7883 - val_accuracy: 0.9660\n",
      "Epoch 16/50\n",
      "450/450 [==============================] - 3s 6ms/step - loss: 0.3202 - get_f1: 0.7974 - accuracy: 0.9642 - val_loss: 0.3469 - val_get_f1: 0.7842 - val_accuracy: 0.9660\n",
      "Epoch 17/50\n",
      "450/450 [==============================] - 3s 6ms/step - loss: 0.3176 - get_f1: 0.8009 - accuracy: 0.9667 - val_loss: 0.3426 - val_get_f1: 0.7955 - val_accuracy: 0.9660\n",
      "Epoch 18/50\n",
      "450/450 [==============================] - 3s 6ms/step - loss: 0.3129 - get_f1: 0.8058 - accuracy: 0.9676 - val_loss: 0.3415 - val_get_f1: 0.7926 - val_accuracy: 0.9660\n",
      "Epoch 19/50\n",
      "450/450 [==============================] - 3s 6ms/step - loss: 0.3094 - get_f1: 0.8126 - accuracy: 0.9692 - val_loss: 0.3435 - val_get_f1: 0.7864 - val_accuracy: 0.9660\n",
      "Epoch 20/50\n",
      "450/450 [==============================] - 3s 6ms/step - loss: 0.3066 - get_f1: 0.8123 - accuracy: 0.9694 - val_loss: 0.3375 - val_get_f1: 0.7981 - val_accuracy: 0.9660\n",
      "Epoch 21/50\n",
      "450/450 [==============================] - 3s 6ms/step - loss: 0.3036 - get_f1: 0.8170 - accuracy: 0.9703 - val_loss: 0.3406 - val_get_f1: 0.7840 - val_accuracy: 0.9660\n",
      "Epoch 22/50\n",
      "450/450 [==============================] - 3s 6ms/step - loss: 0.3009 - get_f1: 0.8208 - accuracy: 0.9707 - val_loss: 0.3355 - val_get_f1: 0.7991 - val_accuracy: 0.9660\n",
      "Epoch 23/50\n",
      "450/450 [==============================] - 3s 7ms/step - loss: 0.2986 - get_f1: 0.8238 - accuracy: 0.9721 - val_loss: 0.3332 - val_get_f1: 0.8067 - val_accuracy: 0.9660\n",
      "Epoch 24/50\n",
      "450/450 [==============================] - 3s 7ms/step - loss: 0.2958 - get_f1: 0.8241 - accuracy: 0.9726 - val_loss: 0.3325 - val_get_f1: 0.7978 - val_accuracy: 0.9660\n",
      "Epoch 25/50\n",
      "450/450 [==============================] - 3s 7ms/step - loss: 0.2954 - get_f1: 0.8272 - accuracy: 0.9732 - val_loss: 0.3312 - val_get_f1: 0.8130 - val_accuracy: 0.9660\n",
      "Epoch 26/50\n",
      "450/450 [==============================] - 3s 6ms/step - loss: 0.2918 - get_f1: 0.8300 - accuracy: 0.9728 - val_loss: 0.3291 - val_get_f1: 0.8077 - val_accuracy: 0.9660\n",
      "Epoch 27/50\n",
      "450/450 [==============================] - 3s 6ms/step - loss: 0.2892 - get_f1: 0.8312 - accuracy: 0.9732 - val_loss: 0.3306 - val_get_f1: 0.8112 - val_accuracy: 0.9660\n",
      "Epoch 28/50\n",
      "450/450 [==============================] - 3s 6ms/step - loss: 0.2882 - get_f1: 0.8336 - accuracy: 0.9737 - val_loss: 0.3293 - val_get_f1: 0.8180 - val_accuracy: 0.9660\n",
      "Epoch 29/50\n",
      "450/450 [==============================] - 3s 6ms/step - loss: 0.2841 - get_f1: 0.8376 - accuracy: 0.9738 - val_loss: 0.3307 - val_get_f1: 0.8151 - val_accuracy: 0.9660\n",
      "Epoch 30/50\n",
      "442/450 [============================>.] - ETA: 0s - loss: 0.2819 - get_f1: 0.8387 - accuracy: 0.9741Restoring model weights from the end of the best epoch: 26.\n",
      "450/450 [==============================] - 3s 6ms/step - loss: 0.2823 - get_f1: 0.8383 - accuracy: 0.9738 - val_loss: 0.3303 - val_get_f1: 0.8005 - val_accuracy: 0.9660\n",
      "Epoch 30: early stopping\n"
     ]
    }
   ],
   "source": [
    "history = model.fit(X_train, y_train, epochs=50, validation_data=(X_val, y_val), shuffle=True, batch_size = 80, callbacks=[es])"
   ]
  },
  {
   "cell_type": "code",
   "execution_count": 51,
   "id": "2220697c",
   "metadata": {},
   "outputs": [
    {
     "data": {
      "text/plain": [
       "<matplotlib.legend.Legend at 0x2ca2371feb0>"
      ]
     },
     "execution_count": 51,
     "metadata": {},
     "output_type": "execute_result"
    },
    {
     "data": {
      "image/png": "[encoded data removed]",
      "text/plain": [
       "<Figure size 1700x300 with 3 Axes>"
      ]
     },
     "metadata": {},
     "output_type": "display_data"
    }
   ],
   "source": [
    "fig,ax = plt.subplots(nrows=1,ncols=3, figsize=(17,3))\n",
    "ax[0].plot(history.history['get_f1'], color='teal', label='f1_score')\n",
    "ax[0].plot(history.history['val_get_f1'], color='orange', label='val_f1_score')\n",
    "ax[0].set_title('F1 Score', fontsize=20)\n",
    "ax[0].legend(loc=\"upper left\")\n",
    "ax[1].plot(history.history['loss'], color='teal', label='loss')\n",
    "ax[1].plot(history.history['val_loss'], color='orange', label='val_loss')\n",
    "ax[1].set_title('Loss', fontsize=20)\n",
    "ax[1].legend(loc=\"upper left\")\n",
    "ax[2].plot(history.history['accuracy'], color='teal', label='accuracy')\n",
    "ax[2].plot(history.history['val_accuracy'], color='orange', label='val_accuracy')\n",
    "ax[2].set_title('Accuracy', fontsize=20)\n",
    "ax[2].legend(loc=\"upper left\")"
   ]
  },
  {
   "cell_type": "code",
   "execution_count": 52,
   "id": "d600761c",
   "metadata": {},
   "outputs": [
    {
     "name": "stdout",
     "output_type": "stream",
     "text": [
      "94/94 [==============================] - 0s 2ms/step\n",
      "              precision    recall  f1-score   support\n",
      "\n",
      "     label 1       0.88      0.86      0.87      1447\n",
      "     label 2       0.80      0.84      0.82      1153\n",
      "     label 3       0.70      0.60      0.65       684\n",
      "\n",
      "   micro avg       0.82      0.80      0.81      3284\n",
      "   macro avg       0.79      0.77      0.78      3284\n",
      "weighted avg       0.81      0.80      0.81      3284\n",
      " samples avg       0.38      0.39      0.37      3284\n",
      "\n"
     ]
    },
    {
     "name": "stderr",
     "output_type": "stream",
     "text": [
      "C:\\Users\\PesikaMau\\anaconda3\\envs\\deeplearning\\lib\\site-packages\\sklearn\\metrics\\_classification.py:1334: UndefinedMetricWarning: Precision and F-score are ill-defined and being set to 0.0 in samples with no predicted labels. Use `zero_division` parameter to control this behavior.\n",
      "  _warn_prf(average, modifier, msg_start, len(result))\n",
      "C:\\Users\\PesikaMau\\anaconda3\\envs\\deeplearning\\lib\\site-packages\\sklearn\\metrics\\_classification.py:1334: UndefinedMetricWarning: Recall and F-score are ill-defined and being set to 0.0 in samples with no true labels. Use `zero_division` parameter to control this behavior.\n",
      "  _warn_prf(average, modifier, msg_start, len(result))\n"
     ]
    }
   ],
   "source": [
    "from sklearn.metrics import classification_report\n",
    "\n",
    "y_pred = model.predict(X_val)\n",
    "y_pred_bool = np.matrix.round(y_pred).astype(int)\n",
    "\n",
    "label_names = ['label 1', 'label 2', 'label 3']\n",
    "\n",
    "print(classification_report(y_val, y_pred_bool,target_names=label_names))"
   ]
  },
  {
   "cell_type": "code",
   "execution_count": 53,
   "id": "b3e0c6a6",
   "metadata": {},
   "outputs": [
    {
     "name": "stdout",
     "output_type": "stream",
     "text": [
      "157/157 [==============================] - 0s 2ms/step\n"
     ]
    }
   ],
   "source": [
    "predictions = model.predict(X_test)\n",
    "predictions = np.matrix.round(predictions).astype(int)\n",
    "predictions = pd.DataFrame(predictions,columns=[\"label1\", 'label2', 'label3'])"
   ]
  },
  {
   "cell_type": "code",
   "execution_count": 54,
   "id": "c096adc8",
   "metadata": {},
   "outputs": [],
   "source": [
    "sub = pd.concat([test_data_kgl.id,predictions],axis=1)\n",
    "sub.set_index('id',inplace=True)"
   ]
  },
  {
   "cell_type": "code",
   "execution_count": 55,
   "id": "154d6452",
   "metadata": {},
   "outputs": [],
   "source": [
    "sub.to_csv(f\"Submission_dense_nn.csv\")"
   ]
  },
  {
   "cell_type": "code",
   "execution_count": null,
   "id": "39a1c0b6",
   "metadata": {},
   "outputs": [],
   "source": []
  }
 ],
 "metadata": {
  "kernelspec": {
   "display_name": "Python 3 (ipykernel)",
   "language": "python",
   "name": "python3"
  },
  "language_info": {
   "codemirror_mode": {
    "name": "ipython",
    "version": 3
   },
   "file_extension": ".py",
   "mimetype": "text/x-python",
   "name": "python",
   "nbconvert_exporter": "python",
   "pygments_lexer": "ipython3",
   "version": "3.9.7"
  }
 },
 "nbformat": 4,
 "nbformat_minor": 5
}
